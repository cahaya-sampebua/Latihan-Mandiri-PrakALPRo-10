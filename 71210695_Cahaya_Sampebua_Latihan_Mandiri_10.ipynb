{
  "nbformat": 4,
  "nbformat_minor": 0,
  "metadata": {
    "colab": {
      "provenance": []
    },
    "kernelspec": {
      "name": "python3",
      "display_name": "Python 3"
    },
    "language_info": {
      "name": "python"
    }
  },
  "cells": [
    {
      "cell_type": "code",
      "execution_count": 1,
      "metadata": {
        "colab": {
          "base_uri": "https://localhost:8080/"
        },
        "id": "vuvgAKgQ5Xrm",
        "outputId": "6b3e0cd2-dbc9-48e2-baa1-dfe36274dc46"
      },
      "outputs": [
        {
          "output_type": "stream",
          "name": "stdout",
          "text": [
            "key\tvalue\titems\n",
            "1\t10\t1\n",
            "2\t20\t2\n",
            "3\t30\t3\n",
            "4\t40\t4\n",
            "5\t50\t5\n",
            "6\t60\t6\n"
          ]
        }
      ],
      "source": [
        "#Soal 1\n",
        "\n",
        "dictionary = {\"1\": 10, \"2\": 20, \"3\": 30, \"4\": 40, \"5\": 50, \"6\": 60}\n",
        "\n",
        "print(\"key\",end=\"\\t\")\n",
        "print(\"value\",end=\"\\t\")\n",
        "print(\"items\")\n",
        "\n",
        "list = sorted(list(dictionary.items()))\n",
        "\n",
        "count = 0\n",
        "for key, value in list:\n",
        "    count += 1\n",
        "    print(count,end=\"\\t\")\n",
        "    print(value,end=\"\\t\")\n",
        "    print(key)"
      ]
    },
    {
      "cell_type": "code",
      "source": [
        "#Soal 2\n",
        "\n",
        "list_a = [\"red\",\"green\",\"blue\"]\n",
        "list_b = [\"#FF0000\",\"008000\",\"0000FF\"]\n",
        "\n",
        "dictionary = dict()\n",
        "\n",
        "for i in range(0,len(list_a)):\n",
        "    dictionary[list_a[i]] = list_b[i]\n",
        "\n",
        "print(dictionary)"
      ],
      "metadata": {
        "colab": {
          "base_uri": "https://localhost:8080/"
        },
        "id": "NuQrcq1O50mr",
        "outputId": "2620c316-23be-424d-a9bd-987cf1f32691"
      },
      "execution_count": 4,
      "outputs": [
        {
          "output_type": "stream",
          "name": "stdout",
          "text": [
            "{'red': '#FF0000', 'green': '008000', 'blue': '0000FF'}\n"
          ]
        }
      ]
    },
    {
      "cell_type": "code",
      "source": [
        "#Soal 3\n",
        "\n",
        "import re\n",
        "\n",
        "nama_file = input(\"Masukkan nama file : \")\n",
        "file = open(nama_file)\n",
        "\n",
        "baca_file = file.read()\n",
        "\n",
        "email_dictionary = {}\n",
        "\n",
        "email_list = re.findall(\"From: ([\\w]+\\.?[\\w]+@.+)\", baca_file)\n",
        "\n",
        "for i in email_list:\n",
        "    if i not in email_dictionary:\n",
        "        email_dictionary[i] = 1\n",
        "    else:\n",
        "        email_dictionary[i] += 1\n",
        "\n",
        "print(email_dictionary)\n",
        "print(sum(email_dictionary.values()))\n",
        "\n",
        "file.close()"
      ],
      "metadata": {
        "colab": {
          "base_uri": "https://localhost:8080/"
        },
        "id": "lv96ByyJ7mry",
        "outputId": "e5cd12f2-e889-4709-e243-7b77b319e822"
      },
      "execution_count": 9,
      "outputs": [
        {
          "output_type": "stream",
          "name": "stdout",
          "text": [
            "Masukkan nama file : mbox-short.txt\n",
            "{'stephen.marquard@uct.ac.za': 2, 'louis@media.berkeley.edu': 3, 'zqian@umich.edu': 4, 'rjlowe@iupui.edu': 2, 'cwen@iupui.edu': 5, 'gsilver@umich.edu': 3, 'wagnermr@iupui.edu': 1, 'antranig@caret.cam.ac.uk': 1, 'gopal.ramasammycook@gmail.com': 1, 'david.horwitz@uct.ac.za': 4, 'ray@media.berkeley.edu': 1}\n",
            "27\n"
          ]
        }
      ]
    },
    {
      "cell_type": "code",
      "source": [
        "#Soal 4\n",
        "\n",
        "import re\n",
        "\n",
        "file = input(\"Masukkan nama file : \")\n",
        "file = open(file)\n",
        "baca_file = file.read()\n",
        "\n",
        "re_file = re.findall(\"From: [\\w]+\\.?[\\w]+@(.+)\",baca_file)\n",
        "\n",
        "dictionary_domain = dict()\n",
        "\n",
        "list_baru = []\n",
        "count = 0\n",
        "for i in re_file:\n",
        "    if i not in list_baru:\n",
        "        list_baru.append(i)\n",
        "        for j in re_file:\n",
        "            if i == j:\n",
        "                count += 1\n",
        "\n",
        "        dictionary_domain[i] = count\n",
        "        count = 0\n",
        "\n",
        "print(dictionary_domain)\n",
        "\n",
        "file.close()"
      ],
      "metadata": {
        "colab": {
          "base_uri": "https://localhost:8080/"
        },
        "id": "-r-glrSe_I_y",
        "outputId": "5156933b-2305-4cb2-9f83-e7c83a0e9b4c"
      },
      "execution_count": 8,
      "outputs": [
        {
          "output_type": "stream",
          "name": "stdout",
          "text": [
            "Masukkan nama file : mbox-short.txt\n",
            "{'uct.ac.za': 6, 'media.berkeley.edu': 4, 'umich.edu': 7, 'iupui.edu': 8, 'caret.cam.ac.uk': 1, 'gmail.com': 1}\n"
          ]
        }
      ]
    }
  ]
}